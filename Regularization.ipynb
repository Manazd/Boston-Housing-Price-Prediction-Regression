{
  "cells": [
    {
      "cell_type": "markdown",
      "metadata": {
        "id": "6Y2oAz-bELlu"
      },
      "source": [
        "# **Introduction**"
      ]
    },
    {
      "cell_type": "markdown",
      "metadata": {
        "id": "333JCswHnbQp"
      },
      "source": [
        "In this assignment, you will work with a dataset that includes The Boston housing data was collected in 1978 and each of the 506 entries represent aggregated data about 14 features for homes from various suburbs in Boston, Massachusetts. The target variable of interest in this dataset is the median value of owner-occupied homes (MEDV), which serves as a proxy for the house prices.\n",
        "First, you will start by fitting a basic regression model using scikit-learn (sklearn) to establish a baseline for comparison. This basic regression model will serve as a reference point for evaluating the performance of more sophisticated models incorporating regularization techniques.\n",
        "\n",
        "Furthermore, you will apply L1 (Lasso) and L2 (Ridge) regularization techniques to refine your predictions and evaluate the impact of these methods on the accuracy of your results. Regularization is a technique used to prevent overfitting by adding a penalty term to the loss function, encouraging simpler models with smaller coefficients. L1 regularization (Lasso) encourages sparsity by penalizing the absolute values of coefficients, while L2 regularization (Ridge) penalizes the square of coefficients. By incorporating these regularization techniques, you aim to improve the generalization performance of your regression models and obtain more robust predictions of house prices in the Boston area."
      ]
    },
    {
      "cell_type": "markdown",
      "metadata": {
        "id": "sDDdf9AAoYXt"
      },
      "source": [
        "## Imports"
      ]
    },
    {
      "cell_type": "code",
      "execution_count": 2,
      "metadata": {
        "colab": {
          "base_uri": "https://localhost:8080/"
        },
        "id": "kkjrbInyoRyN",
        "outputId": "d1c8e649-fcf4-4277-e579-a3e52072a728"
      },
      "outputs": [
        {
          "name": "stdout",
          "output_type": "stream",
          "text": [
            "--2024-04-09 06:25:36--  https://www.dropbox.com/scl/fi/j3rxgrd8l7fgczzhiedlp/new.csv?rlkey=yngaf57gumhtmm3hxffk20qll&dl=0\n",
            "Resolving www.dropbox.com (www.dropbox.com)... 162.125.3.18, 2620:100:6018:18::a27d:312\n",
            "Connecting to www.dropbox.com (www.dropbox.com)|162.125.3.18|:443... connected.\n",
            "HTTP request sent, awaiting response... 302 Found\n",
            "Location: https://uc7c8e664d2066ec6d218b60d7a0.dl.dropboxusercontent.com/cd/0/inline/CQo4dekSm4O7DaiNR1s8YKUg148aS4YQ7wd8fGBJsbe6pjLIgz33KNmE53x_g3k9CCWl6JbmmvhBIT77oioXWaQ_g0ZZx69Jhq33WR59425BCN4okM9uCYaea9EVfSWRQqLfvEyep4z2fxzJ8f6WTwPg/file# [following]\n",
            "--2024-04-09 06:25:36--  https://uc7c8e664d2066ec6d218b60d7a0.dl.dropboxusercontent.com/cd/0/inline/CQo4dekSm4O7DaiNR1s8YKUg148aS4YQ7wd8fGBJsbe6pjLIgz33KNmE53x_g3k9CCWl6JbmmvhBIT77oioXWaQ_g0ZZx69Jhq33WR59425BCN4okM9uCYaea9EVfSWRQqLfvEyep4z2fxzJ8f6WTwPg/file\n",
            "Resolving uc7c8e664d2066ec6d218b60d7a0.dl.dropboxusercontent.com (uc7c8e664d2066ec6d218b60d7a0.dl.dropboxusercontent.com)... 162.125.3.15, 2620:100:6016:15::a27d:10f\n",
            "Connecting to uc7c8e664d2066ec6d218b60d7a0.dl.dropboxusercontent.com (uc7c8e664d2066ec6d218b60d7a0.dl.dropboxusercontent.com)|162.125.3.15|:443... connected.\n",
            "HTTP request sent, awaiting response... 200 OK\n",
            "Length: 37599 (37K) [text/plain]\n",
            "Saving to: ‘/HousingData.csv’\n",
            "\n",
            "/HousingData.csv    100%[===================>]  36.72K  --.-KB/s    in 0.01s   \n",
            "\n",
            "2024-04-09 06:25:37 (2.93 MB/s) - ‘/HousingData.csv’ saved [37599/37599]\n",
            "\n"
          ]
        }
      ],
      "source": [
        "import os\n",
        "import pandas\n",
        "from sklearn.linear_model import LinearRegression, Lasso, Ridge\n",
        "from sklearn.metrics import mean_squared_error, r2_score\n",
        "from sklearn.model_selection import train_test_split\n",
        "from sklearn.preprocessing import StandardScaler, PolynomialFeatures\n",
        "import numpy as np\n",
        "import pandas as pd\n",
        "import seaborn as sns\n",
        "from joblib import dump, load\n",
        "from matplotlib import pyplot as plt\n",
        "\n",
        "!wget -O /HousingData.csv \"https://www.dropbox.com/scl/fi/j3rxgrd8l7fgczzhiedlp/new.csv?rlkey=yngaf57gumhtmm3hxffk20qll&dl=0\""
      ]
    },
    {
      "cell_type": "markdown",
      "metadata": {
        "id": "jBpa9AGHEtD7"
      },
      "source": [
        "# Load and Explore"
      ]
    },
    {
      "cell_type": "markdown",
      "metadata": {
        "id": "MFzJZLOxoZDJ"
      },
      "source": [
        "Load the dataset (as a dataframe) using pandas and display the top 5 rows of the dataframe and then check for missing values and impute missing values with mean"
      ]
    },
    {
      "cell_type": "code",
      "execution_count": 8,
      "metadata": {
        "colab": {
          "base_uri": "https://localhost:8080/"
        },
        "id": "lqhABVd2oZYV",
        "outputId": "e473e2ae-f7b2-48be-c197-b80cae21fb77"
      },
      "outputs": [
        {
          "name": "stdout",
          "output_type": "stream",
          "text": [
            "      CRIM    ZN  INDUS  CHAS    NOX     RM   AGE     DIS  TAX  PTRATIO  \\\n",
            "0  0.00632  18.0   2.31   0.0  0.538  6.575  65.2  4.0900  296     15.3   \n",
            "1  0.02731   0.0   7.07   0.0  0.469  6.421  78.9  4.9671  242     17.8   \n",
            "2  0.02729   0.0   7.07   0.0  0.469  7.185  61.1  4.9671  242     17.8   \n",
            "3  0.03237   0.0   2.18   0.0  0.458  6.998  45.8  6.0622  222     18.7   \n",
            "4  0.06905   0.0   2.18   0.0  0.458  7.147  54.2  6.0622  222     18.7   \n",
            "\n",
            "        B      LSTAT  MEDV  \n",
            "0  396.90   4.980000  24.0  \n",
            "1  396.90   9.140000  21.6  \n",
            "2  392.83   4.030000  34.7  \n",
            "3  394.63   2.940000  33.4  \n",
            "4  396.90  12.715432  36.2  \n",
            "missing:\n",
            "CRIM       0\n",
            "ZN         0\n",
            "INDUS      0\n",
            "CHAS       0\n",
            "NOX        0\n",
            "RM         0\n",
            "AGE        0\n",
            "DIS        0\n",
            "TAX        0\n",
            "PTRATIO    0\n",
            "B          0\n",
            "LSTAT      0\n",
            "MEDV       0\n",
            "dtype: int64\n"
          ]
        }
      ],
      "source": [
        "file_path = '/HousingData.csv'\n",
        "# TODO: Load the Dataset and Check for mising values and then impute them with the mean value\n",
        "housing_data = pd.read_csv(file_path)\n",
        "\n",
        "print(housing_data.head())\n",
        "\n",
        "print('missing:')\n",
        "print(housing_data.isnull().sum())\n",
        "\n",
        "housing_data.fillna(housing_data.mean(), inplace=True)\n",
        "\n",
        "# print(\"impute:\")\n",
        "# print(housing_data.isnull().sum())"
      ]
    },
    {
      "cell_type": "markdown",
      "metadata": {
        "id": "5-Py3iuJoZwi"
      },
      "source": [
        "Get a brief description of the dataset"
      ]
    },
    {
      "cell_type": "code",
      "execution_count": 9,
      "metadata": {
        "colab": {
          "base_uri": "https://localhost:8080/"
        },
        "id": "zThHHTAcoZ_h",
        "outputId": "c90aefa7-1cc0-4423-9fa5-20904c7a0d70"
      },
      "outputs": [
        {
          "name": "stdout",
          "output_type": "stream",
          "text": [
            "<class 'pandas.core.frame.DataFrame'>\n",
            "RangeIndex: 506 entries, 0 to 505\n",
            "Data columns (total 13 columns):\n",
            " #   Column   Non-Null Count  Dtype  \n",
            "---  ------   --------------  -----  \n",
            " 0   CRIM     506 non-null    float64\n",
            " 1   ZN       506 non-null    float64\n",
            " 2   INDUS    506 non-null    float64\n",
            " 3   CHAS     506 non-null    float64\n",
            " 4   NOX      506 non-null    float64\n",
            " 5   RM       506 non-null    float64\n",
            " 6   AGE      506 non-null    float64\n",
            " 7   DIS      506 non-null    float64\n",
            " 8   TAX      506 non-null    int64  \n",
            " 9   PTRATIO  506 non-null    float64\n",
            " 10  B        506 non-null    float64\n",
            " 11  LSTAT    506 non-null    float64\n",
            " 12  MEDV     506 non-null    float64\n",
            "dtypes: float64(12), int64(1)\n",
            "memory usage: 51.5 KB\n",
            "None\n",
            "             CRIM          ZN       INDUS        CHAS         NOX          RM  \\\n",
            "count  506.000000  506.000000  506.000000  506.000000  506.000000  506.000000   \n",
            "mean     3.611874   11.211934   11.083992    0.069959    0.554695    6.284634   \n",
            "std      8.545770   22.921051    6.699165    0.250233    0.115878    0.702617   \n",
            "min      0.006320    0.000000    0.460000    0.000000    0.385000    3.561000   \n",
            "25%      0.083235    0.000000    5.190000    0.000000    0.449000    5.885500   \n",
            "50%      0.290250    0.000000    9.900000    0.000000    0.538000    6.208500   \n",
            "75%      3.611874   11.211934   18.100000    0.000000    0.624000    6.623500   \n",
            "max     88.976200  100.000000   27.740000    1.000000    0.871000    8.780000   \n",
            "\n",
            "              AGE         DIS         TAX     PTRATIO           B       LSTAT  \\\n",
            "count  506.000000  506.000000  506.000000  506.000000  506.000000  506.000000   \n",
            "mean    68.518519    3.795043  408.237154   18.455534  356.674032   12.715432   \n",
            "std     27.439466    2.105710  168.537116    2.164946   91.294864    7.012739   \n",
            "min      2.900000    1.129600  187.000000   12.600000    0.320000    1.730000   \n",
            "25%     45.925000    2.100175  279.000000   17.400000  375.377500    7.230000   \n",
            "50%     74.450000    3.207450  330.000000   19.050000  391.440000   11.995000   \n",
            "75%     93.575000    5.188425  666.000000   20.200000  396.225000   16.570000   \n",
            "max    100.000000   12.126500  711.000000   22.000000  396.900000   37.970000   \n",
            "\n",
            "             MEDV  \n",
            "count  506.000000  \n",
            "mean    22.532806  \n",
            "std      9.197104  \n",
            "min      5.000000  \n",
            "25%     17.025000  \n",
            "50%     21.200000  \n",
            "75%     25.000000  \n",
            "max     50.000000  \n"
          ]
        }
      ],
      "source": [
        "# TODO: you can use .info() and .description()\n",
        "\n",
        "print(housing_data.info())\n",
        "print(housing_data.describe())"
      ]
    },
    {
      "cell_type": "markdown",
      "metadata": {
        "id": "gHcKVT_4oabK"
      },
      "source": [
        "Extract only the features from the dataframe by removing the target column and then Convert the new dataframe into a numpy array\n",
        "</br>\n",
        "Note: **Do not remove the previous dataframe.**\n"
      ]
    },
    {
      "cell_type": "markdown",
      "metadata": {
        "id": "VkDUEmURE-Sx"
      },
      "source": [
        "# Preprocessing"
      ]
    },
    {
      "cell_type": "code",
      "execution_count": 10,
      "metadata": {
        "colab": {
          "base_uri": "https://localhost:8080/"
        },
        "id": "FtT8kFoBoajv",
        "outputId": "d08bc64a-1f5d-45ec-b9f4-f86d36ec085f"
      },
      "outputs": [
        {
          "name": "stdout",
          "output_type": "stream",
          "text": [
            "[[6.3200e-03 1.8000e+01 2.3100e+00 ... 1.5300e+01 3.9690e+02 4.9800e+00]\n",
            " [2.7310e-02 0.0000e+00 7.0700e+00 ... 1.7800e+01 3.9690e+02 9.1400e+00]\n",
            " [2.7290e-02 0.0000e+00 7.0700e+00 ... 1.7800e+01 3.9283e+02 4.0300e+00]\n",
            " ...\n",
            " [6.0760e-02 0.0000e+00 1.1930e+01 ... 2.1000e+01 3.9690e+02 5.6400e+00]\n",
            " [1.0959e-01 0.0000e+00 1.1930e+01 ... 2.1000e+01 3.9345e+02 6.4800e+00]\n",
            " [4.7410e-02 0.0000e+00 1.1930e+01 ... 2.1000e+01 3.9690e+02 7.8800e+00]]\n"
          ]
        }
      ],
      "source": [
        "# TODO: drop MEDV and convert to numpy array\n",
        "\n",
        "new_data = housing_data.drop(columns=['MEDV'])\n",
        "new_data_array = new_data.values\n",
        "print(new_data_array)"
      ]
    },
    {
      "cell_type": "markdown",
      "metadata": {
        "id": "forjBjgQHDz0"
      },
      "source": [
        "look for outliers using box plot and if There are some outliers in data, use StandardScaler can help in scaling data."
      ]
    },
    {
      "cell_type": "code",
      "execution_count": 42,
      "metadata": {
        "colab": {
          "base_uri": "https://localhost:8080/",
          "height": 890
        },
        "id": "fJVP9gGnFHbM",
        "outputId": "5cd59438-af3e-4082-cf7e-01de267f6c5f"
      },
      "outputs": [
        {
          "data": {
            "image/png": "[encoded data removed]",
            "text/plain": [
              "<Figure size 700x500 with 1 Axes>"
            ]
          },
          "metadata": {},
          "output_type": "display_data"
        },
        {
          "name": "stdout",
          "output_type": "stream",
          "text": [
            "\n"
          ]
        },
        {
          "data": {
            "image/png": "[encoded data removed]",
            "text/plain": [
              "<Figure size 700x500 with 1 Axes>"
            ]
          },
          "metadata": {},
          "output_type": "display_data"
        }
      ],
      "source": [
        "plt.figure(figsize=(7, 5))\n",
        "sns.boxplot(data=new_data)\n",
        "plt.show()\n",
        "\n",
        "print()\n",
        "\n",
        "if new_data.apply(lambda x: x.abs().max() > 3).any():\n",
        "  scaler = StandardScaler()\n",
        "  scaled_data = pd.DataFrame(scaler.fit_transform(new_data))\n",
        "  plt.figure(figsize=(7, 5))\n",
        "  sns.boxplot(data=scaled_data)\n",
        "  plt.show()"
      ]
    },
    {
      "cell_type": "markdown",
      "metadata": {
        "id": "mLfX6ugX3fNM"
      },
      "source": [
        "add polynomial features to increase model complexity!\n",
        "\n"
      ]
    },
    {
      "cell_type": "code",
      "execution_count": 43,
      "metadata": {
        "id": "rkEQ02jU3fXj"
      },
      "outputs": [],
      "source": [
        "poly_features = PolynomialFeatures(degree=2)\n",
        "features = poly_features.fit_transform(scaled_data)"
      ]
    },
    {
      "cell_type": "markdown",
      "metadata": {
        "id": "8_TZ52zNoatM"
      },
      "source": [
        "Extract the target column from the previously mentioned DataFrame and transform it into a new NumPy array, named y."
      ]
    },
    {
      "cell_type": "code",
      "execution_count": 44,
      "metadata": {
        "colab": {
          "base_uri": "https://localhost:8080/"
        },
        "id": "lzDxTUBFoa4I",
        "outputId": "12b9d855-bea5-4fd7-ff88-7925769eaa1f"
      },
      "outputs": [
        {
          "name": "stdout",
          "output_type": "stream",
          "text": [
            "<class 'numpy.ndarray'>\n",
            "[24.  21.6 34.7 33.4 36.2]\n",
            "\n",
            "y = [24.  21.6 34.7 33.4 36.2 28.7 22.9 27.1 16.5 18.9 15.  18.9 21.7 20.4\n",
            " 18.2 19.9 23.1 17.5 20.2 18.2 13.6 19.6 15.2 14.5 15.6 13.9 16.6 14.8\n",
            " 18.4 21.  12.7 14.5 13.2 13.1 13.5 18.9 20.  21.  24.7 30.8 34.9 26.6\n",
            " 25.3 24.7 21.2 19.3 20.  16.6 14.4 19.4 19.7 20.5 25.  23.4 18.9 35.4\n",
            " 24.7 31.6 23.3 19.6 18.7 16.  22.2 25.  33.  23.5 19.4 22.  17.4 20.9\n",
            " 24.2 21.7 22.8 23.4 24.1 21.4 20.  20.8 21.2 20.3 28.  23.9 24.8 22.9\n",
            " 23.9 26.6 22.5 22.2 23.6 28.7 22.6 22.  22.9 25.  20.6 28.4 21.4 38.7\n",
            " 43.8 33.2 27.5 26.5 18.6 19.3 20.1 19.5 19.5 20.4 19.8 19.4 21.7 22.8\n",
            " 18.8 18.7 18.5 18.3 21.2 19.2 20.4 19.3 22.  20.3 20.5 17.3 18.8 21.4\n",
            " 15.7 16.2 18.  14.3 19.2 19.6 23.  18.4 15.6 18.1 17.4 17.1 13.3 17.8\n",
            " 14.  14.4 13.4 15.6 11.8 13.8 15.6 14.6 17.8 15.4 21.5 19.6 15.3 19.4\n",
            " 17.  15.6 13.1 41.3 24.3 23.3 27.  50.  50.  50.  22.7 25.  50.  23.8\n",
            " 23.8 22.3 17.4 19.1 23.1 23.6 22.6 29.4 23.2 24.6 29.9 37.2 39.8 36.2\n",
            " 37.9 32.5 26.4 29.6 50.  32.  29.8 34.9 37.  30.5 36.4 31.1 29.1 50.\n",
            " 33.3 30.3 34.6 34.9 32.9 24.1 42.3 48.5 50.  22.6 24.4 22.5 24.4 20.\n",
            " 21.7 19.3 22.4 28.1 23.7 25.  23.3 28.7 21.5 23.  26.7 21.7 27.5 30.1\n",
            " 44.8 50.  37.6 31.6 46.7 31.5 24.3 31.7 41.7 48.3 29.  24.  25.1 31.5\n",
            " 23.7 23.3 22.  20.1 22.2 23.7 17.6 18.5 24.3 20.5 24.5 26.2 24.4 24.8\n",
            " 29.6 42.8 21.9 20.9 44.  50.  36.  30.1 33.8 43.1 48.8 31.  36.5 22.8\n",
            " 30.7 50.  43.5 20.7 21.1 25.2 24.4 35.2 32.4 32.  33.2 33.1 29.1 35.1\n",
            " 45.4 35.4 46.  50.  32.2 22.  20.1 23.2 22.3 24.8 28.5 37.3 27.9 23.9\n",
            " 21.7 28.6 27.1 20.3 22.5 29.  24.8 22.  26.4 33.1 36.1 28.4 33.4 28.2\n",
            " 22.8 20.3 16.1 22.1 19.4 21.6 23.8 16.2 17.8 19.8 23.1 21.  23.8 23.1\n",
            " 20.4 18.5 25.  24.6 23.  22.2 19.3 22.6 19.8 17.1 19.4 22.2 20.7 21.1\n",
            " 19.5 18.5 20.6 19.  18.7 32.7 16.5 23.9 31.2 17.5 17.2 23.1 24.5 26.6\n",
            " 22.9 24.1 18.6 30.1 18.2 20.6 17.8 21.7 22.7 22.6 25.  19.9 20.8 16.8\n",
            " 21.9 27.5 21.9 23.1 50.  50.  50.  50.  50.  13.8 13.8 15.  13.9 13.3\n",
            " 13.1 10.2 10.4 10.9 11.3 12.3  8.8  7.2 10.5  7.4 10.2 11.5 15.1 23.2\n",
            "  9.7 13.8 12.7 13.1 12.5  8.5  5.   6.3  5.6  7.2 12.1  8.3  8.5  5.\n",
            " 11.9 27.9 17.2 27.5 15.  17.2 17.9 16.3  7.   7.2  7.5 10.4  8.8  8.4\n",
            " 16.7 14.2 20.8 13.4 11.7  8.3 10.2 10.9 11.   9.5 14.5 14.1 16.1 14.3\n",
            " 11.7 13.4  9.6  8.7  8.4 12.8 10.5 17.1 18.4 15.4 10.8 11.8 14.9 12.6\n",
            " 14.1 13.  13.4 15.2 16.1 17.8 14.9 14.1 12.7 13.5 14.9 20.  16.4 17.7\n",
            " 19.5 20.2 21.4 19.9 19.  19.1 19.1 20.1 19.9 19.6 23.2 29.8 13.8 13.3\n",
            " 16.7 12.  14.6 21.4 23.  23.7 25.  21.8 20.6 21.2 19.1 20.6 15.2  7.\n",
            "  8.1 13.6 20.1 21.8 24.5 23.1 19.7 18.3 21.2 17.5 16.8 22.4 20.6 23.9\n",
            " 22.  11.9]\n"
          ]
        }
      ],
      "source": [
        "# TODO: extract the MEDV\n",
        "target_column = housing_data['MEDV']\n",
        "y = target_column.to_numpy()\n",
        "print(f'{type(y)}')\n",
        "print(f'{y[:5]}')\n",
        "print(f'\\ny = {y}')"
      ]
    },
    {
      "cell_type": "markdown",
      "metadata": {
        "id": "6zVgga7tobBP"
      },
      "source": [
        "\n",
        "\n",
        "Split the dataset into two parts such that the training set contains 80% of the samples."
      ]
    },
    {
      "cell_type": "code",
      "execution_count": 46,
      "metadata": {
        "id": "2LGiy-8LobKh"
      },
      "outputs": [],
      "source": [
        "# TODO: Split the dataset into two parts such that the training set contains 80% of the samples.\n",
        "X_train, X_test, y_train, y_test = train_test_split(features, y, test_size=0.2, random_state=42)"
      ]
    },
    {
      "cell_type": "markdown",
      "metadata": {
        "id": "s-rejkt9FHTj"
      },
      "source": [
        "# Training"
      ]
    },
    {
      "cell_type": "markdown",
      "metadata": {
        "id": "_qoiRXLOv25z"
      },
      "source": [
        "\n",
        "Fit a linear regressor to the data. (Use sklearn)\n"
      ]
    },
    {
      "cell_type": "code",
      "execution_count": 47,
      "metadata": {
        "colab": {
          "base_uri": "https://localhost:8080/",
          "height": 74
        },
        "id": "jWvwdl-Iv3FF",
        "outputId": "ec1b94eb-a00c-4341-a397-403e59ee2945"
      },
      "outputs": [
        {
          "data": {
            "text/html": [
              "<style>#sk-container-id-3 {color: black;background-color: white;}#sk-container-id-3 pre{padding: 0;}#sk-container-id-3 div.sk-toggleable {background-color: white;}#sk-container-id-3 label.sk-toggleable__label {cursor: pointer;display: block;width: 100%;margin-bottom: 0;padding: 0.3em;box-sizing: border-box;text-align: center;}#sk-container-id-3 label.sk-toggleable__label-arrow:before {content: \"▸\";float: left;margin-right: 0.25em;color: #696969;}#sk-container-id-3 label.sk-toggleable__label-arrow:hover:before {color: black;}#sk-container-id-3 div.sk-estimator:hover label.sk-toggleable__label-arrow:before {color: black;}#sk-container-id-3 div.sk-toggleable__content {max-height: 0;max-width: 0;overflow: hidden;text-align: left;background-color: #f0f8ff;}#sk-container-id-3 div.sk-toggleable__content pre {margin: 0.2em;color: black;border-radius: 0.25em;background-color: #f0f8ff;}#sk-container-id-3 input.sk-toggleable__control:checked~div.sk-toggleable__content {max-height: 200px;max-width: 100%;overflow: auto;}#sk-container-id-3 input.sk-toggleable__control:checked~label.sk-toggleable__label-arrow:before {content: \"▾\";}#sk-container-id-3 div.sk-estimator input.sk-toggleable__control:checked~label.sk-toggleable__label {background-color: #d4ebff;}#sk-container-id-3 div.sk-label input.sk-toggleable__control:checked~label.sk-toggleable__label {background-color: #d4ebff;}#sk-container-id-3 input.sk-hidden--visually {border: 0;clip: rect(1px 1px 1px 1px);clip: rect(1px, 1px, 1px, 1px);height: 1px;margin: -1px;overflow: hidden;padding: 0;position: absolute;width: 1px;}#sk-container-id-3 div.sk-estimator {font-family: monospace;background-color: #f0f8ff;border: 1px dotted black;border-radius: 0.25em;box-sizing: border-box;margin-bottom: 0.5em;}#sk-container-id-3 div.sk-estimator:hover {background-color: #d4ebff;}#sk-container-id-3 div.sk-parallel-item::after {content: \"\";width: 100%;border-bottom: 1px solid gray;flex-grow: 1;}#sk-container-id-3 div.sk-label:hover label.sk-toggleable__label {background-color: #d4ebff;}#sk-container-id-3 div.sk-serial::before {content: \"\";position: absolute;border-left: 1px solid gray;box-sizing: border-box;top: 0;bottom: 0;left: 50%;z-index: 0;}#sk-container-id-3 div.sk-serial {display: flex;flex-direction: column;align-items: center;background-color: white;padding-right: 0.2em;padding-left: 0.2em;position: relative;}#sk-container-id-3 div.sk-item {position: relative;z-index: 1;}#sk-container-id-3 div.sk-parallel {display: flex;align-items: stretch;justify-content: center;background-color: white;position: relative;}#sk-container-id-3 div.sk-item::before, #sk-container-id-3 div.sk-parallel-item::before {content: \"\";position: absolute;border-left: 1px solid gray;box-sizing: border-box;top: 0;bottom: 0;left: 50%;z-index: -1;}#sk-container-id-3 div.sk-parallel-item {display: flex;flex-direction: column;z-index: 1;position: relative;background-color: white;}#sk-container-id-3 div.sk-parallel-item:first-child::after {align-self: flex-end;width: 50%;}#sk-container-id-3 div.sk-parallel-item:last-child::after {align-self: flex-start;width: 50%;}#sk-container-id-3 div.sk-parallel-item:only-child::after {width: 0;}#sk-container-id-3 div.sk-dashed-wrapped {border: 1px dashed gray;margin: 0 0.4em 0.5em 0.4em;box-sizing: border-box;padding-bottom: 0.4em;background-color: white;}#sk-container-id-3 div.sk-label label {font-family: monospace;font-weight: bold;display: inline-block;line-height: 1.2em;}#sk-container-id-3 div.sk-label-container {text-align: center;}#sk-container-id-3 div.sk-container {/* jupyter's `normalize.less` sets `[hidden] { display: none; }` but bootstrap.min.css set `[hidden] { display: none !important; }` so we also need the `!important` here to be able to override the default hidden behavior on the sphinx rendered scikit-learn.org. See: https://github.com/scikit-learn/scikit-learn/issues/21755 */display: inline-block !important;position: relative;}#sk-container-id-3 div.sk-text-repr-fallback {display: none;}</style><div id=\"sk-container-id-3\" class=\"sk-top-container\"><div class=\"sk-text-repr-fallback\"><pre>LinearRegression()</pre><b>In a Jupyter environment, please rerun this cell to show the HTML representation or trust the notebook. <br />On GitHub, the HTML representation is unable to render, please try loading this page with nbviewer.org.</b></div><div class=\"sk-container\" hidden><div class=\"sk-item\"><div class=\"sk-estimator sk-toggleable\"><input class=\"sk-toggleable__control sk-hidden--visually\" id=\"sk-estimator-id-3\" type=\"checkbox\" checked><label for=\"sk-estimator-id-3\" class=\"sk-toggleable__label sk-toggleable__label-arrow\">LinearRegression</label><div class=\"sk-toggleable__content\"><pre>LinearRegression()</pre></div></div></div></div></div>"
            ],
            "text/plain": [
              "LinearRegression()"
            ]
          },
          "execution_count": 47,
          "metadata": {},
          "output_type": "execute_result"
        }
      ],
      "source": [
        "# TODO: Use sklearn\n",
        "regressor = LinearRegression()\n",
        "regressor.fit(X_train, y_train)"
      ]
    },
    {
      "cell_type": "markdown",
      "metadata": {
        "id": "8ytvTJ60v3Oq"
      },
      "source": [
        "Get the coefficients of the variables and visualize it"
      ]
    },
    {
      "cell_type": "code",
      "execution_count": 56,
      "metadata": {
        "colab": {
          "base_uri": "https://localhost:8080/",
          "height": 886
        },
        "id": "Lh9C3xihv3X3",
        "outputId": "1ce29311-a2f6-485c-df46-96503809162f"
      },
      "outputs": [
        {
          "name": "stdout",
          "output_type": "stream",
          "text": [
            "Coefficients of the variables in the sklearn: [ 6.71326437e-15  2.61543210e+00  8.23937159e-01  2.71362629e-01\n",
            " -3.48211983e+00 -1.29409137e+00  3.44585661e+00 -1.21943076e+00\n",
            " -1.81707978e+00 -1.35705037e+00 -7.62724086e-01  9.41284776e-02\n",
            " -3.26790109e+00  1.88815533e-01 -2.12293611e+00  3.27201664e+00\n",
            "  2.99592944e+00 -2.33583776e+00  3.47631370e-01  2.08741825e-01\n",
            "  2.21883471e+00 -2.33322440e+00 -2.04447912e+00  7.41756805e-03\n",
            "  1.19322150e+00 -8.41126027e-02  1.01385910e-01  2.74709658e-01\n",
            " -2.78021092e+00 -1.52798130e-01  7.61588328e-01 -1.08630659e+00\n",
            "  2.97124880e+00 -2.68640233e-01 -3.02213841e+00 -1.60704564e+00\n",
            "  1.31321171e+00 -3.11014224e-01 -5.10197825e-01  1.28252455e+00\n",
            "  1.32809034e+00  1.38205448e+00 -6.50905063e-01 -1.06080996e+00\n",
            "  7.72225398e-01 -5.06351131e-01  1.37177961e+00 -1.08949576e+00\n",
            " -9.50138209e-01 -4.45437289e-01 -1.69626905e+00  5.47158139e-01\n",
            " -1.88581634e-01  6.91851939e-03 -4.71226094e-01 -3.79170284e-01\n",
            " -1.24093403e+00  3.76740641e-01  3.63408849e+00  1.95669949e+00\n",
            " -2.07628197e+00 -4.87583740e-01  5.33153600e-01  7.34804882e-01\n",
            " -4.76720613e-01  1.44799894e-01 -2.03085847e+00 -1.18219970e+00\n",
            " -4.62944660e-01  6.96661663e-01  6.21445264e-02  4.35302992e-01\n",
            " -6.72892447e-01  3.72240181e-01 -1.12519132e+00 -1.17650773e+00\n",
            "  2.24180978e+00 -2.15987726e+00 -5.33156830e-01  4.42541174e-01\n",
            "  7.40739848e-01 -1.18015450e-01  4.20887909e+00 -1.01095438e+00\n",
            " -2.48662060e+00 -4.86518994e-01  1.04890851e-01  7.61631914e-02\n",
            " -3.29742779e-01  1.63160538e-01  1.40255420e+00]\n"
          ]
        },
        {
          "data": {
            "image/png": "[encoded data removed]",
            "text/plain": [
              "<Figure size 700x500 with 1 Axes>"
            ]
          },
          "metadata": {},
          "output_type": "display_data"
        }
      ],
      "source": [
        "coefficients = regressor.coef_\n",
        "print(f'Coefficients of the variables in the sklearn: {coefficients}')\n",
        "\n",
        "plt.figure(figsize=(7, 5))\n",
        "bar_range = range(len(coefficients))\n",
        "plt.bar(bar_range, coefficients)\n",
        "plt.title('Coefficients')\n",
        "plt.xlabel('Coefficient Index')\n",
        "plt.ylabel('Coefficient Value')\n",
        "plt.show()"
      ]
    },
    {
      "cell_type": "markdown",
      "metadata": {
        "id": "eTCcA4W8v3f4"
      },
      "source": [
        "Get the score value of sklearn regressor on train dataset</br>\n",
        "if you are not familiar with R-squared concept see the link below:\n",
        "[R-squared](https://statisticsbyjim.com/regression/interpret-r-squared-regression/)\n",
        "\n"
      ]
    },
    {
      "cell_type": "code",
      "execution_count": 57,
      "metadata": {
        "colab": {
          "base_uri": "https://localhost:8080/"
        },
        "id": "onAXRIl7v3qJ",
        "outputId": "85ccbf9a-deca-49b1-c650-7623eb74dfc3"
      },
      "outputs": [
        {
          "name": "stdout",
          "output_type": "stream",
          "text": [
            "R² score on the training dataset: 0.9233615957926449\n",
            "MSE on the training dataset : 6.65783903781899\n"
          ]
        }
      ],
      "source": [
        "# TODO: Calculate R² score and MSE on the training dataset\n",
        "r2_score = regressor.score(X_train, y_train)\n",
        "print(f'R² score on the training dataset: {r2_score}')\n",
        "\n",
        "y_pred = regressor.predict(X_train)\n",
        "mse = mean_squared_error(y_train, y_pred)\n",
        "print(f'MSE on the training dataset : {mse}')"
      ]
    },
    {
      "cell_type": "markdown",
      "metadata": {
        "id": "RXBvLGMcwpbT"
      },
      "source": [
        "Predict the value of \"y\" for each \"x\" belonging to the \"testing\" set"
      ]
    },
    {
      "cell_type": "code",
      "execution_count": 58,
      "metadata": {
        "colab": {
          "base_uri": "https://localhost:8080/"
        },
        "id": "bA_DNqeKwprp",
        "outputId": "5c6d701e-0cad-4471-d092-01fda10e75ee"
      },
      "outputs": [
        {
          "name": "stdout",
          "output_type": "stream",
          "text": [
            "[26.60760472 39.62214268 18.71401934 21.00627478 15.36932115 18.14967249\n",
            " 19.2680689  14.04520907 20.41411804 19.68358046 19.34721612 17.80080883\n",
            "  9.52923494 17.56130221 17.61765281 23.1886407  19.83784911  9.82571722\n",
            " 48.00938013 13.01200313 24.67113881 28.75366122 15.14797668 19.48768303\n",
            " 16.8711114  16.54597743 17.07120558 13.34377675 16.66485127 19.34855953\n",
            " 18.50229727 23.95889069 15.48239335 25.70102382 13.69224402 17.48588361\n",
            " 33.1589375  20.10130817 20.24277819 21.68697931 16.91569466 31.33039866\n",
            " 53.78155342 15.35787882 27.30502419 15.90970181 14.76748839 23.49841731\n",
            " 17.57527936 29.19894908 19.95253249 33.61207695 17.02933983 26.86934524\n",
            " 44.01327048 23.0722288  13.43102214 32.42020215 25.15187612 12.20309801\n",
            " 25.03914004 29.01333968 31.99975955 14.25741358 27.2478974  13.81980117\n",
            " 14.35877776 24.56841459 29.12596225 12.07120755 21.52505912 27.39851469\n",
            "  9.60239834 22.99803726 19.8464662   7.55139317 22.13069349 49.95089019\n",
            " 11.35178549 11.98183645 18.34848076 12.31262512 15.91992994 11.17875652\n",
            " 20.05758709 28.21017905 17.52432039 24.64183624 25.95216955 18.86643395\n",
            " 24.91833318  7.26540165 20.04649013 17.38110339 44.76506329 20.87525411\n",
            " 25.80390969  5.75854824 11.00494177 15.63482602 23.13270522 20.58824762]\n"
          ]
        }
      ],
      "source": [
        "y_pred_test = regressor.predict(X_test)\n",
        "print(y_pred_test)"
      ]
    },
    {
      "cell_type": "markdown",
      "metadata": {
        "id": "z_aF3pNEFP79"
      },
      "source": [
        "# Lasso Regularization(L1)"
      ]
    },
    {
      "cell_type": "markdown",
      "metadata": {
        "id": "PPMTy_D_wp-X"
      },
      "source": [
        "L1 regularization, also known as Lasso (Least Absolute Shrinkage and Selection Operator) regularization, is a technique used in regression models that encourages simplicity and sparsity in the model coefficients. This is achieved by adding a penalty equal to the absolute value of the magnitude of coefficients to the loss function.\\\n",
        "</br>\n",
        "Train a regression model using L1 regularization."
      ]
    },
    {
      "cell_type": "code",
      "execution_count": 79,
      "metadata": {
        "colab": {
          "base_uri": "https://localhost:8080/",
          "height": 74
        },
        "id": "SHr5JR4fwqHO",
        "outputId": "184b8ebe-b0c5-4c2c-e648-2f01d9ce6acb"
      },
      "outputs": [
        {
          "data": {
            "text/html": [
              "<style>#sk-container-id-12 {color: black;background-color: white;}#sk-container-id-12 pre{padding: 0;}#sk-container-id-12 div.sk-toggleable {background-color: white;}#sk-container-id-12 label.sk-toggleable__label {cursor: pointer;display: block;width: 100%;margin-bottom: 0;padding: 0.3em;box-sizing: border-box;text-align: center;}#sk-container-id-12 label.sk-toggleable__label-arrow:before {content: \"▸\";float: left;margin-right: 0.25em;color: #696969;}#sk-container-id-12 label.sk-toggleable__label-arrow:hover:before {color: black;}#sk-container-id-12 div.sk-estimator:hover label.sk-toggleable__label-arrow:before {color: black;}#sk-container-id-12 div.sk-toggleable__content {max-height: 0;max-width: 0;overflow: hidden;text-align: left;background-color: #f0f8ff;}#sk-container-id-12 div.sk-toggleable__content pre {margin: 0.2em;color: black;border-radius: 0.25em;background-color: #f0f8ff;}#sk-container-id-12 input.sk-toggleable__control:checked~div.sk-toggleable__content {max-height: 200px;max-width: 100%;overflow: auto;}#sk-container-id-12 input.sk-toggleable__control:checked~label.sk-toggleable__label-arrow:before {content: \"▾\";}#sk-container-id-12 div.sk-estimator input.sk-toggleable__control:checked~label.sk-toggleable__label {background-color: #d4ebff;}#sk-container-id-12 div.sk-label input.sk-toggleable__control:checked~label.sk-toggleable__label {background-color: #d4ebff;}#sk-container-id-12 input.sk-hidden--visually {border: 0;clip: rect(1px 1px 1px 1px);clip: rect(1px, 1px, 1px, 1px);height: 1px;margin: -1px;overflow: hidden;padding: 0;position: absolute;width: 1px;}#sk-container-id-12 div.sk-estimator {font-family: monospace;background-color: #f0f8ff;border: 1px dotted black;border-radius: 0.25em;box-sizing: border-box;margin-bottom: 0.5em;}#sk-container-id-12 div.sk-estimator:hover {background-color: #d4ebff;}#sk-container-id-12 div.sk-parallel-item::after {content: \"\";width: 100%;border-bottom: 1px solid gray;flex-grow: 1;}#sk-container-id-12 div.sk-label:hover label.sk-toggleable__label {background-color: #d4ebff;}#sk-container-id-12 div.sk-serial::before {content: \"\";position: absolute;border-left: 1px solid gray;box-sizing: border-box;top: 0;bottom: 0;left: 50%;z-index: 0;}#sk-container-id-12 div.sk-serial {display: flex;flex-direction: column;align-items: center;background-color: white;padding-right: 0.2em;padding-left: 0.2em;position: relative;}#sk-container-id-12 div.sk-item {position: relative;z-index: 1;}#sk-container-id-12 div.sk-parallel {display: flex;align-items: stretch;justify-content: center;background-color: white;position: relative;}#sk-container-id-12 div.sk-item::before, #sk-container-id-12 div.sk-parallel-item::before {content: \"\";position: absolute;border-left: 1px solid gray;box-sizing: border-box;top: 0;bottom: 0;left: 50%;z-index: -1;}#sk-container-id-12 div.sk-parallel-item {display: flex;flex-direction: column;z-index: 1;position: relative;background-color: white;}#sk-container-id-12 div.sk-parallel-item:first-child::after {align-self: flex-end;width: 50%;}#sk-container-id-12 div.sk-parallel-item:last-child::after {align-self: flex-start;width: 50%;}#sk-container-id-12 div.sk-parallel-item:only-child::after {width: 0;}#sk-container-id-12 div.sk-dashed-wrapped {border: 1px dashed gray;margin: 0 0.4em 0.5em 0.4em;box-sizing: border-box;padding-bottom: 0.4em;background-color: white;}#sk-container-id-12 div.sk-label label {font-family: monospace;font-weight: bold;display: inline-block;line-height: 1.2em;}#sk-container-id-12 div.sk-label-container {text-align: center;}#sk-container-id-12 div.sk-container {/* jupyter's `normalize.less` sets `[hidden] { display: none; }` but bootstrap.min.css set `[hidden] { display: none !important; }` so we also need the `!important` here to be able to override the default hidden behavior on the sphinx rendered scikit-learn.org. See: https://github.com/scikit-learn/scikit-learn/issues/21755 */display: inline-block !important;position: relative;}#sk-container-id-12 div.sk-text-repr-fallback {display: none;}</style><div id=\"sk-container-id-12\" class=\"sk-top-container\"><div class=\"sk-text-repr-fallback\"><pre>Lasso(alpha=0.5)</pre><b>In a Jupyter environment, please rerun this cell to show the HTML representation or trust the notebook. <br />On GitHub, the HTML representation is unable to render, please try loading this page with nbviewer.org.</b></div><div class=\"sk-container\" hidden><div class=\"sk-item\"><div class=\"sk-estimator sk-toggleable\"><input class=\"sk-toggleable__control sk-hidden--visually\" id=\"sk-estimator-id-12\" type=\"checkbox\" checked><label for=\"sk-estimator-id-12\" class=\"sk-toggleable__label sk-toggleable__label-arrow\">Lasso</label><div class=\"sk-toggleable__content\"><pre>Lasso(alpha=0.5)</pre></div></div></div></div></div>"
            ],
            "text/plain": [
              "Lasso(alpha=0.5)"
            ]
          },
          "execution_count": 79,
          "metadata": {},
          "output_type": "execute_result"
        }
      ],
      "source": [
        "# TODO: Use Lasso from sklearn library\n",
        "lasso_regressor = Lasso(alpha=0.5)\n",
        "lasso_regressor.fit(X_train, y_train)"
      ]
    },
    {
      "cell_type": "markdown",
      "metadata": {
        "id": "du892nvjwqPi"
      },
      "source": [
        "Get the coefficients of the variables and visualize it."
      ]
    },
    {
      "cell_type": "code",
      "execution_count": 80,
      "metadata": {
        "colab": {
          "base_uri": "https://localhost:8080/",
          "height": 765
        },
        "id": "W-yiCdq1wqcn",
        "outputId": "4634857b-101c-48ea-c572-a82657247f96"
      },
      "outputs": [
        {
          "name": "stdout",
          "output_type": "stream",
          "text": [
            "Coefficients of the variables: [ 0.         -0.          0.         -0.          0.         -0.\n",
            "  2.71044561 -0.         -0.         -0.17551806 -0.87919831  0.\n",
            " -3.61571562 -0.09172222  0.         -0.          0.         -0.\n",
            "  0.         -0.          0.         -0.         -0.         -0.\n",
            " -0.          0.          0.          0.          0.          0.\n",
            " -0.         -0.          0.          0.         -0.         -0.\n",
            "  0.          0.         -0.         -0.          0.          0.\n",
            "  0.         -0.          0.         -0.          0.21657471 -0.\n",
            " -0.          0.         -0.          0.09712834  0.          0.\n",
            " -0.         -0.20798319 -0.1485112  -0.          0.         -0.\n",
            " -0.          0.         -0.          0.7562266  -0.          0.\n",
            " -0.85199921 -0.59720675  0.         -0.          0.          0.\n",
            " -0.         -0.         -0.         -0.         -0.          0.\n",
            "  0.         -0.          0.26961623  0.          0.         -0.\n",
            " -0.8353172   0.         -0.         -0.         -0.24304235 -0.\n",
            "  0.46962857]\n"
          ]
        },
        {
          "data": {
            "image/png": "[encoded data removed]",
            "text/plain": [
              "<Figure size 700x500 with 1 Axes>"
            ]
          },
          "metadata": {},
          "output_type": "display_data"
        }
      ],
      "source": [
        "lasso_coef = lasso_regressor.coef_\n",
        "print(f'Coefficients of the variables: {lasso_coef}')\n",
        "\n",
        "plt.figure(figsize=(7, 5))\n",
        "bar_range = range(len(lasso_coef))\n",
        "plt.bar(bar_range, lasso_coef)\n",
        "plt.title('Lasso Coefficient')\n",
        "plt.xlabel('Coefficient Index')\n",
        "plt.ylabel('Coefficient Value')\n",
        "plt.show()"
      ]
    },
    {
      "cell_type": "markdown",
      "metadata": {
        "id": "mI3QuD8Wydqc"
      },
      "source": [
        "1- What observations can you make about the weight distribution when applying L1 regularization?\n",
        "\n",
        "2- How do different values of the regularization parameter (alpha) affect the sparsity of the model coefficients?"
      ]
    },
    {
      "cell_type": "markdown",
      "metadata": {
        "id": "RREHXw6dydzd"
      },
      "source": [
        "    Your Answer Goes here.\n",
        "    1- In L1 regularization, the weight distribution is very sparse because not all of the features are selected (less important coefficients become zero). It also has shrinkage due to make some features' importance to  zero. Not that the alpha parameter in this regularization adjusts these two measures (shrinkage and sparsity).\n",
        "    2- As I said, alpha adjusts the degree of shrinkage and sparsity. The lower the value of alpha, the less coefficients become zero, so we will have less sparsity. On the other hand, the higher the value of alpha, the more sparse the model becomes, because more less important coefficients become zero."
      ]
    },
    {
      "cell_type": "markdown",
      "metadata": {
        "id": "VWHqbCktz2OD"
      },
      "source": [
        "Get the score value on train *dataset*\n"
      ]
    },
    {
      "cell_type": "code",
      "execution_count": 81,
      "metadata": {
        "colab": {
          "base_uri": "https://localhost:8080/"
        },
        "id": "RbHNlgfTz2WI",
        "outputId": "80562615-d302-4295-c171-a33a30a0b586"
      },
      "outputs": [
        {
          "name": "stdout",
          "output_type": "stream",
          "text": [
            "R² score on the training dataset: 0.8171286694481938\n",
            "MSE on the training dataset : 15.88665494849732\n"
          ]
        }
      ],
      "source": [
        "# TODO: Calculate R² score and MSE on the training dataset\n",
        "\n",
        "r2_score = lasso_regressor.score(X_train, y_train)\n",
        "print(f'R² score on the training dataset: {r2_score}')\n",
        "\n",
        "y_pred = lasso_regressor.predict(X_train)\n",
        "mse = mean_squared_error(y_train, y_pred)\n",
        "print(f'MSE on the training dataset : {mse}')\n"
      ]
    },
    {
      "cell_type": "markdown",
      "metadata": {
        "id": "hjI1nMXVz2f2"
      },
      "source": [
        "Predict the value of \"y\" for each \"x\" belonging to the \"testing\" set"
      ]
    },
    {
      "cell_type": "code",
      "execution_count": 83,
      "metadata": {
        "colab": {
          "base_uri": "https://localhost:8080/"
        },
        "id": "KfOWH0oQz2mY",
        "outputId": "d3084342-1f63-4ce4-8e16-95c0f5475b34"
      },
      "outputs": [
        {
          "name": "stdout",
          "output_type": "stream",
          "text": [
            "[25.01553605 32.02170508 16.56431707 23.67545781 17.13464034 21.69118954\n",
            " 18.08272601 14.79576716 20.40693987 19.6387817  21.53217387 19.92343501\n",
            "  6.64235117 21.28994714 19.61841959 22.15653103 18.10047426 11.57157362\n",
            " 42.41465504 16.42067495 21.39943226 25.60136064 15.78693485 22.04815612\n",
            " 17.9021186  17.00238679 19.88982538 13.39822411 21.17351703 19.18396855\n",
            " 18.45930572 24.45954182 22.28497567 22.26103013 14.87175003 17.51351063\n",
            " 32.12600448 20.57590791 22.56516819 20.96313305 15.55620789 27.56743981\n",
            " 44.34319575 18.69292057 24.52131935 17.12080258 16.94276939 24.60012608\n",
            " 18.02835641 28.77188928 21.29219328 31.99034286 17.89886858 25.3993675\n",
            " 39.45589001 22.16073425 17.33354312 28.94005254 23.43768009 17.00480941\n",
            " 24.78746672 31.5308728  28.44268606 19.11754198 26.06453555 17.74025689\n",
            " 17.46661041 24.07595784 27.21904407 12.41794401 18.96854429 25.30678507\n",
            " 12.52088818 21.93187535 22.04846018  8.76834845 20.47808211 41.66158441\n",
            " 15.06191799 13.48259615 21.44899084 12.04377305 21.41888025 13.33517454\n",
            " 21.09970534 29.74964082 18.10571831 24.96133183 24.51130599 19.7996216\n",
            " 22.33310177 10.22300224 20.74225997 19.942328   33.26834975 21.54646686\n",
            " 22.90863042  7.80871909 13.38402503 12.52417522 20.25376137 23.3348229 ]\n"
          ]
        }
      ],
      "source": [
        "y_pred_test = lasso_regressor.predict(X_test)\n",
        "print(y_pred_test)"
      ]
    },
    {
      "cell_type": "markdown",
      "metadata": {
        "id": "XHpNCGELFZsu"
      },
      "source": [
        "# Ridge Regularization(L2)"
      ]
    },
    {
      "cell_type": "markdown",
      "metadata": {
        "id": "qsVvbx5vy3LP"
      },
      "source": [
        "L2 regularization, also known as Ridge regularization, is a technique used in regression models to prevent overfitting by adding a penalty equivalent to the square of the magnitude of coefficients to the loss function.\n",
        "</br>\n",
        "Train a regression model using L2 regularization."
      ]
    },
    {
      "cell_type": "code",
      "execution_count": 91,
      "metadata": {
        "colab": {
          "base_uri": "https://localhost:8080/",
          "height": 74
        },
        "id": "ww93tqpWwq99",
        "outputId": "cfd446d2-06ac-4209-ddc3-c7f77a4ef078"
      },
      "outputs": [
        {
          "data": {
            "text/html": [
              "<style>#sk-container-id-17 {color: black;background-color: white;}#sk-container-id-17 pre{padding: 0;}#sk-container-id-17 div.sk-toggleable {background-color: white;}#sk-container-id-17 label.sk-toggleable__label {cursor: pointer;display: block;width: 100%;margin-bottom: 0;padding: 0.3em;box-sizing: border-box;text-align: center;}#sk-container-id-17 label.sk-toggleable__label-arrow:before {content: \"▸\";float: left;margin-right: 0.25em;color: #696969;}#sk-container-id-17 label.sk-toggleable__label-arrow:hover:before {color: black;}#sk-container-id-17 div.sk-estimator:hover label.sk-toggleable__label-arrow:before {color: black;}#sk-container-id-17 div.sk-toggleable__content {max-height: 0;max-width: 0;overflow: hidden;text-align: left;background-color: #f0f8ff;}#sk-container-id-17 div.sk-toggleable__content pre {margin: 0.2em;color: black;border-radius: 0.25em;background-color: #f0f8ff;}#sk-container-id-17 input.sk-toggleable__control:checked~div.sk-toggleable__content {max-height: 200px;max-width: 100%;overflow: auto;}#sk-container-id-17 input.sk-toggleable__control:checked~label.sk-toggleable__label-arrow:before {content: \"▾\";}#sk-container-id-17 div.sk-estimator input.sk-toggleable__control:checked~label.sk-toggleable__label {background-color: #d4ebff;}#sk-container-id-17 div.sk-label input.sk-toggleable__control:checked~label.sk-toggleable__label {background-color: #d4ebff;}#sk-container-id-17 input.sk-hidden--visually {border: 0;clip: rect(1px 1px 1px 1px);clip: rect(1px, 1px, 1px, 1px);height: 1px;margin: -1px;overflow: hidden;padding: 0;position: absolute;width: 1px;}#sk-container-id-17 div.sk-estimator {font-family: monospace;background-color: #f0f8ff;border: 1px dotted black;border-radius: 0.25em;box-sizing: border-box;margin-bottom: 0.5em;}#sk-container-id-17 div.sk-estimator:hover {background-color: #d4ebff;}#sk-container-id-17 div.sk-parallel-item::after {content: \"\";width: 100%;border-bottom: 1px solid gray;flex-grow: 1;}#sk-container-id-17 div.sk-label:hover label.sk-toggleable__label {background-color: #d4ebff;}#sk-container-id-17 div.sk-serial::before {content: \"\";position: absolute;border-left: 1px solid gray;box-sizing: border-box;top: 0;bottom: 0;left: 50%;z-index: 0;}#sk-container-id-17 div.sk-serial {display: flex;flex-direction: column;align-items: center;background-color: white;padding-right: 0.2em;padding-left: 0.2em;position: relative;}#sk-container-id-17 div.sk-item {position: relative;z-index: 1;}#sk-container-id-17 div.sk-parallel {display: flex;align-items: stretch;justify-content: center;background-color: white;position: relative;}#sk-container-id-17 div.sk-item::before, #sk-container-id-17 div.sk-parallel-item::before {content: \"\";position: absolute;border-left: 1px solid gray;box-sizing: border-box;top: 0;bottom: 0;left: 50%;z-index: -1;}#sk-container-id-17 div.sk-parallel-item {display: flex;flex-direction: column;z-index: 1;position: relative;background-color: white;}#sk-container-id-17 div.sk-parallel-item:first-child::after {align-self: flex-end;width: 50%;}#sk-container-id-17 div.sk-parallel-item:last-child::after {align-self: flex-start;width: 50%;}#sk-container-id-17 div.sk-parallel-item:only-child::after {width: 0;}#sk-container-id-17 div.sk-dashed-wrapped {border: 1px dashed gray;margin: 0 0.4em 0.5em 0.4em;box-sizing: border-box;padding-bottom: 0.4em;background-color: white;}#sk-container-id-17 div.sk-label label {font-family: monospace;font-weight: bold;display: inline-block;line-height: 1.2em;}#sk-container-id-17 div.sk-label-container {text-align: center;}#sk-container-id-17 div.sk-container {/* jupyter's `normalize.less` sets `[hidden] { display: none; }` but bootstrap.min.css set `[hidden] { display: none !important; }` so we also need the `!important` here to be able to override the default hidden behavior on the sphinx rendered scikit-learn.org. See: https://github.com/scikit-learn/scikit-learn/issues/21755 */display: inline-block !important;position: relative;}#sk-container-id-17 div.sk-text-repr-fallback {display: none;}</style><div id=\"sk-container-id-17\" class=\"sk-top-container\"><div class=\"sk-text-repr-fallback\"><pre>Ridge(alpha=5)</pre><b>In a Jupyter environment, please rerun this cell to show the HTML representation or trust the notebook. <br />On GitHub, the HTML representation is unable to render, please try loading this page with nbviewer.org.</b></div><div class=\"sk-container\" hidden><div class=\"sk-item\"><div class=\"sk-estimator sk-toggleable\"><input class=\"sk-toggleable__control sk-hidden--visually\" id=\"sk-estimator-id-17\" type=\"checkbox\" checked><label for=\"sk-estimator-id-17\" class=\"sk-toggleable__label sk-toggleable__label-arrow\">Ridge</label><div class=\"sk-toggleable__content\"><pre>Ridge(alpha=5)</pre></div></div></div></div></div>"
            ],
            "text/plain": [
              "Ridge(alpha=5)"
            ]
          },
          "execution_count": 91,
          "metadata": {},
          "output_type": "execute_result"
        }
      ],
      "source": [
        "# TODO: Use Ridge from sklearn library\n",
        "ridge_regressor = Ridge(alpha=5)\n",
        "ridge_regressor.fit(X_train, y_train)"
      ]
    },
    {
      "cell_type": "markdown",
      "metadata": {
        "id": "EwXQdOdQ0c4y"
      },
      "source": [
        "Get the coefficients of the variables and visualize it."
      ]
    },
    {
      "cell_type": "code",
      "execution_count": 92,
      "metadata": {
        "colab": {
          "base_uri": "https://localhost:8080/",
          "height": 765
        },
        "id": "CmVqcA6r0dEe",
        "outputId": "5bd0116c-70d7-4629-dcce-f58b82c77517"
      },
      "outputs": [
        {
          "name": "stdout",
          "output_type": "stream",
          "text": [
            "Coefficients of the variables: [ 0.          0.35014864  0.68434854 -0.23596475 -0.63156843 -0.97540978\n",
            "  3.38533881 -1.20826848 -1.77336385 -0.61666878 -0.8450282   0.40812727\n",
            " -3.0335445   0.17367675 -0.4634214   1.05964193  2.0709717  -1.43093833\n",
            "  0.2514816  -0.22569531  1.12365209 -0.48290029 -0.67295607 -0.063493\n",
            "  0.76927417  0.10977906  0.0540309   0.1929779  -0.57038804 -0.17557206\n",
            "  0.22719666 -0.58451494  1.18327291 -0.11176774 -0.67184234 -0.8840974\n",
            "  0.79247845 -0.1012521   0.10881455  0.76254191  1.02058954  0.97109132\n",
            " -0.14202464 -0.87949025  0.49941608 -0.77754824  0.54291649 -1.00891277\n",
            " -0.89591589 -0.23848485 -1.08101135  0.7258137  -0.1142485  -0.03369731\n",
            " -0.52574156 -0.32415811 -1.12630698 -0.2575344   1.38233431  0.43566627\n",
            " -0.95185563 -0.23361477  0.66940798  0.62784107 -0.39704282  0.26331066\n",
            " -1.56501271 -1.31480185 -0.38420083  0.53208178  0.19689175  0.40824477\n",
            " -0.01843885  0.20333957 -1.01603925 -1.02214217  1.39023911 -0.90626364\n",
            " -0.1354934  -0.22056089  0.79864737  0.52129092  2.51629869 -0.91375129\n",
            " -2.07721801 -0.42371111  0.28668038  0.00485784 -0.33778747  0.08975534\n",
            "  1.33995149]\n"
          ]
        },
        {
          "data": {
            "image/png": "[encoded data removed]",
            "text/plain": [
              "<Figure size 700x500 with 1 Axes>"
            ]
          },
          "metadata": {},
          "output_type": "display_data"
        }
      ],
      "source": [
        "ridge_coef = ridge_regressor.coef_\n",
        "print(f'Coefficients of the variables: {ridge_coef}')\n",
        "\n",
        "plt.figure(figsize=(7, 5))\n",
        "bar_range = range(len(ridge_coef))\n",
        "plt.bar(bar_range, ridge_coef)\n",
        "plt.title('Ridge Coefficient')\n",
        "plt.xlabel('Coefficient Index')\n",
        "plt.ylabel('Coefficient Value')\n",
        "plt.show()"
      ]
    },
    {
      "cell_type": "markdown",
      "metadata": {
        "id": "uc_LYcVZ0dOQ"
      },
      "source": [
        "1- Compare the effect on coefficients between L1 and L2 regularization. What are the key differences?\n",
        "\n",
        "2- How does the regularization parameter influence the magnitude of the coefficients in Ridge Regression?"
      ]
    },
    {
      "cell_type": "markdown",
      "metadata": {
        "id": "vz3VZj1H1E5D"
      },
      "source": [
        "        Your answer goes here\n",
        "        1- As I said in the previous sections, L1 regularization set a lot of coefficients to zero so it is very sparse. But L2 regularization focuses on reducing the magnitude of coefficients, not set them to zero. So it is less sparse than the L1 regularization, more smoother and more continuous penalty.\n",
        "        2- The higher the alpha value, the more coefficients decrease to near zero (not zero but low). The lower the alpha value, the regularization will be weaker, so coefficients will have larger magnitudes. If the model becomes complex, lower alpha will lead to overfitting."
      ]
    },
    {
      "cell_type": "markdown",
      "metadata": {
        "id": "8-vwV52g1KaB"
      },
      "source": [
        "Get the score value on train *dataset*"
      ]
    },
    {
      "cell_type": "code",
      "execution_count": 93,
      "metadata": {
        "colab": {
          "base_uri": "https://localhost:8080/"
        },
        "id": "WgrPqaBF0dlc",
        "outputId": "48f6adca-4a13-42d8-efa6-ca3c9a3d1ef9"
      },
      "outputs": [
        {
          "name": "stdout",
          "output_type": "stream",
          "text": [
            "R² score on the training dataset: 0.9183028778286344\n",
            "MSE on the training dataset : 7.097307086383514\n"
          ]
        }
      ],
      "source": [
        "# TODO: Calculate R² score and MSE on the training dataset\n",
        "\n",
        "r2_score = ridge_regressor.score(X_train, y_train)\n",
        "print(f'R² score on the training dataset: {r2_score}')\n",
        "\n",
        "y_pred = ridge_regressor.predict(X_train)\n",
        "mse = mean_squared_error(y_train, y_pred)\n",
        "print(f'MSE on the training dataset : {mse}')"
      ]
    },
    {
      "cell_type": "markdown",
      "metadata": {
        "id": "94nftWCR0dtC"
      },
      "source": [
        "Predict the value of \"y\" for each \"x\" belonging to the \"testing\" set\n",
        "\n"
      ]
    },
    {
      "cell_type": "code",
      "execution_count": 94,
      "metadata": {
        "colab": {
          "base_uri": "https://localhost:8080/"
        },
        "id": "ivsbD08X0d1E",
        "outputId": "1291a659-def9-417e-fc45-6b52c5f153ea"
      },
      "outputs": [
        {
          "name": "stdout",
          "output_type": "stream",
          "text": [
            "[26.67219198 38.17817919 19.20604167 21.62511069 15.29107997 19.73017229\n",
            " 19.02299518 13.34910155 21.41935298 19.6088748  19.71765454 17.67249332\n",
            "  8.07305407 18.99678662 17.70278507 22.6348135  19.25960661 10.65779678\n",
            " 47.98432873 13.07064794 25.8122793  28.81350442 15.42890089 20.66016016\n",
            " 16.87265344 16.60319077 17.72816822 13.14105347 18.24673233 19.16007906\n",
            " 18.40939787 23.9358733  16.76261445 24.64141465 14.44174261 17.171113\n",
            " 33.11544372 20.26476613 21.17635849 21.80330497 16.81034913 31.06713402\n",
            " 53.19194526 16.08495345 26.90356739 15.95414346 15.1258431  23.97293369\n",
            " 17.90238218 28.47771024 18.75916625 33.32518592 16.94027276 25.73108191\n",
            " 43.52186113 23.01352962 14.49423181 32.42644387 25.077235   13.82449768\n",
            " 24.94931667 32.43078441 31.02475544 15.54044959 25.67416414 15.26765288\n",
            " 14.52304027 24.4636752  30.26778897 12.28130472 21.02328336 27.73427485\n",
            " 10.07744133 22.08125344 20.54610854  6.31531343 21.05727632 49.87472098\n",
            " 11.1723486  13.20038522 18.93562919 11.97049893 17.43164316 11.41658254\n",
            " 20.33304746 28.72911683 17.28203038 24.57894096 25.92160725 18.22693451\n",
            " 24.24764578  7.55138458 19.29601569 18.31001883 41.78863287 20.36916704\n",
            " 25.18676567  5.47667255 10.99114257 14.3558523  22.82828613 21.62978506]\n"
          ]
        }
      ],
      "source": [
        "y_pred_test = ridge_regressor.predict(X_test)\n",
        "print(y_pred_test)"
      ]
    },
    {
      "cell_type": "markdown",
      "metadata": {
        "id": "u6iKDyiwF-2q"
      },
      "source": [
        "# Summarization"
      ]
    },
    {
      "cell_type": "markdown",
      "metadata": {
        "id": "gY7NOCfB0d9K"
      },
      "source": [
        "Summarize the performance metrics (e.g., RMSE, R² score) of the basic regression model, Lasso regression, and Ridge regression in a table for easy comparison.(On both test and train data)</br>\n",
        "if you are not familiar with R-squared concept see the link below:\n",
        "[R-squared](https://statisticsbyjim.com/regression/interpret-r-squared-regression/)\n"
      ]
    },
    {
      "cell_type": "code",
      "execution_count": 100,
      "metadata": {
        "id": "2CfvMNifDuYy"
      },
      "outputs": [],
      "source": [
        "def calculate_MSE_test():\n",
        "  mse_test_linear = mean_squared_error(y_test,  regressor.predict(X_test))\n",
        "  mse_test_lasso = mean_squared_error(y_test, lasso_regressor.predict(X_test))\n",
        "  mse_test_ridge = mean_squared_error(y_test, ridge_regressor.predict(X_test))\n",
        "  return [mse_test_linear, mse_test_lasso, mse_test_ridge]\n",
        "\n",
        "def calculate_MSE_train():\n",
        "  mse_train_linear = mean_squared_error(y_train, regressor.predict(X_train))\n",
        "  mse_train_lasso = mean_squared_error(y_train, lasso_regressor.predict(X_train))\n",
        "  mse_train_ridge = mean_squared_error(y_train, ridge_regressor.predict(X_train))\n",
        "  return [mse_train_linear, mse_train_lasso, mse_train_ridge]\n",
        "\n",
        "def calculate_r2_test():\n",
        "  # R² Score Test\n",
        "  r2_test_linear = r2_score(y_test,  regressor.predict(X_test))\n",
        "  r2_test_lasso = r2_score(y_test, lasso_regressor.predict(X_test))\n",
        "  r2_test_ridge = r2_score(y_test, ridge_regressor.predict(X_test))\n",
        "  return [r2_test_linear, r2_test_lasso, r2_test_ridge]\n",
        "\n",
        "def calculate_r2_train():\n",
        "  r2_train_linear = r2_score(y_train, regressor.predict(X_train))\n",
        "  r2_train_lasso = r2_score(y_train, lasso_regressor.predict(X_train))\n",
        "  r2_train_ridge = r2_score(y_train, ridge_regressor.predict(X_train))\n",
        "  return [r2_train_linear, r2_train_lasso, r2_train_ridge]"
      ]
    },
    {
      "cell_type": "code",
      "execution_count": 101,
      "metadata": {
        "colab": {
          "base_uri": "https://localhost:8080/"
        },
        "id": "3gI-6r2r0eEx",
        "outputId": "9e5b983c-f9e7-45a7-aca1-7c9143ac1473"
      },
      "outputs": [
        {
          "name": "stdout",
          "output_type": "stream",
          "text": [
            "              Model  MSE(Test)  MSE(Train)  R² Score (Test)  R² Score (Train)\n",
            "0  Basic Regression  18.122077    6.657839         0.752882          0.923362\n",
            "1  Lasso Regression  16.227427   15.886655         0.778718          0.817129\n",
            "2  Ridge Regression  15.716632    7.097307         0.785684          0.918303\n"
          ]
        }
      ],
      "source": [
        "# HINT: Use DataFrame tools\n",
        "data = {\n",
        "    'Model': ['Basic Regression', 'Lasso Regression', 'Ridge Regression'],\n",
        "    'MSE(Test)': calculate_MSE_test(),\n",
        "    'MSE(Train)': calculate_MSE_train(),\n",
        "    'R² Score (Test)': calculate_r2_test(),\n",
        "    'R² Score (Train)': calculate_r2_train()\n",
        "}\n",
        "data = pd.DataFrame(data)\n",
        "print(data)"
      ]
    },
    {
      "cell_type": "markdown",
      "metadata": {
        "id": "dB2x-l231Soo"
      },
      "source": [
        " *Which model performed best on the test data?</br>\n",
        "Why the results on train data are different? </br>\n",
        "Discuss why this might be the case.*"
      ]
    },
    {
      "cell_type": "markdown",
      "metadata": {
        "id": "dRIs24F91SsH"
      },
      "source": [
        "          your answer goes here.\n",
        "          The Ridge Regression model performance was the best on the test data, while it has the lowest MSE Test and the highest R² Score Test. The results on the train data differ due to the regularization techniques used, like pushing unimportant coefficients to zero or near it, setting the alpha value and other parameters that I've discussed in the previous sections, leading to difference in training the data.\n",
        "          Also we can see that Ridge Regression achieves a better balance between bias and variance (better generalization) to unseen data compared to Linear and Lasso Regression! After Ridge regression, Lasso Regression has a good generalization. Also by the results, we can understand the linear regularization has overfitted the data.\n",
        "        "
      ]
    }
  ],
  "metadata": {
    "colab": {
      "gpuType": "T4",
      "provenance": []
    },
    "kernelspec": {
      "display_name": "Python 3.10.6 64-bit",
      "language": "python",
      "name": "python3"
    },
    "language_info": {
      "name": "python",
      "version": "3.10.6"
    },
    "vscode": {
      "interpreter": {
        "hash": "9280cfe3a885ab6393e840bb0851a2b8b9319602f57c283749909a607b67fea4"
      }
    }
  },
  "nbformat": 4,
  "nbformat_minor": 0
}
